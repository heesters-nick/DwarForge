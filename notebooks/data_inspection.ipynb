{
 "cells": [
  {
   "cell_type": "code",
   "execution_count": null,
   "id": "74f07ebc",
   "metadata": {},
   "outputs": [],
   "source": [
    "from pathlib import Path\n",
    "\n",
    "import numpy as np\n",
    "\n",
    "from dwarforge.make_rbg import cutouts_to_rgb\n",
    "from dwarforge.plotting import plot_cutouts\n",
    "from dwarforge.tile_cutter import read_h5"
   ]
  },
  {
   "cell_type": "markdown",
   "id": "96a30917",
   "metadata": {},
   "source": [
    "### Paths"
   ]
  },
  {
   "cell_type": "code",
   "execution_count": null,
   "id": "335fb2a3",
   "metadata": {},
   "outputs": [],
   "source": [
    "tile = '234_295'\n",
    "tile_path = Path(f'/home/nick/astro/DwarForge/data/{tile}')\n",
    "cutout_path = tile_path / 'gri' / f'{tile}_matched_cutouts_full_res_final.h5'"
   ]
  },
  {
   "cell_type": "markdown",
   "id": "7a534000",
   "metadata": {},
   "source": [
    "### Read cutout data"
   ]
  },
  {
   "cell_type": "code",
   "execution_count": null,
   "id": "ac52b70d",
   "metadata": {},
   "outputs": [],
   "source": [
    "cutout_h5 = read_h5(cutout_path)\n",
    "cutouts = cutout_h5['images']\n",
    "cutout_coords = np.column_stack((cutout_h5['ra'], cutout_h5['dec']))\n",
    "cutout_ids = np.array([x.decode('utf-8') for x in cutout_h5['known_id']])"
   ]
  },
  {
   "cell_type": "markdown",
   "id": "c0093859",
   "metadata": {},
   "source": [
    "### Plot cutouts"
   ]
  },
  {
   "cell_type": "code",
   "execution_count": null,
   "id": "610f0df0",
   "metadata": {},
   "outputs": [],
   "source": [
    "rgb_cutouts = cutouts_to_rgb(cutouts)\n",
    "plot_cutouts(cutouts=rgb_cutouts, ids=cutout_ids, coords=cutout_coords, max_cols=5)"
   ]
  },
  {
   "cell_type": "code",
   "execution_count": null,
   "id": "1cfee0b5",
   "metadata": {},
   "outputs": [],
   "source": []
  }
 ],
 "metadata": {
  "kernelspec": {
   "display_name": "DwarForge",
   "language": "python",
   "name": "python3"
  },
  "language_info": {
   "codemirror_mode": {
    "name": "ipython",
    "version": 3
   },
   "file_extension": ".py",
   "mimetype": "text/x-python",
   "name": "python",
   "nbconvert_exporter": "python",
   "pygments_lexer": "ipython3",
   "version": "3.11.5"
  }
 },
 "nbformat": 4,
 "nbformat_minor": 5
}
